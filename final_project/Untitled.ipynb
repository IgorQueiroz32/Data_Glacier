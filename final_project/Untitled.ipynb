{
 "cells": [
  {
   "cell_type": "markdown",
   "id": "ca6b3c99",
   "metadata": {},
   "source": [
    "## 2.3. Hyphotesis Final List"
   ]
  },
  {
   "cell_type": "markdown",
   "id": "a8f5be84",
   "metadata": {},
   "source": [
    "**1.** Female patients are more persistent of a drug than male.\n",
    "\n",
    "**2.** Patients from Northeast are more persistent of a drug than patients from South.\n",
    "\n",
    "**3.** Patients over 65 years of age are more persistent of a drug than patients 65 years of age or younger.\n",
    "\n",
    "**4.** Caucasian patients, not hispanic are more persistent of a drug than patients with different race and ethinicity.\n",
    "\n",
    "**5.** Patients mapped to IDN are more persistent of a drug than patient not mapped."
   ]
  },
  {
   "cell_type": "markdown",
   "id": "69406b90",
   "metadata": {},
   "source": [
    "**6.** Patients that received the drug prescription from General Practtitioner Specialty are less persistent of a drug than patients that received the drug prescription from others Specialty."
   ]
  },
  {
   "cell_type": "markdown",
   "id": "397ad202",
   "metadata": {},
   "source": [
    "**7.** Patients that used Glucocorticoid and had a Fragility Fracture, before and during the therapy, are more persistent of a drug than patients that not used Glucocorticoid neither had a Fragility Fracture, in any situation.\n",
    "\n",
    "**8.** Patients that had Dexa Scan more than 20 times are more persistent of a drug than patients that had Dexa Scan less than 20 times, and patients that dit not have Dexa Scan are more persistent of a drug than patients that had Dexa Scan.\n",
    "\n",
    "**9.** Patients that presents HR_VHR as Risk Segment during the therapy and presents an improve in Risk Segment after the therapy are more persistent of a drug than patients that presents other types of Risk Segment and Change in Risk Segment.\n",
    "\n",
    "**10.** Patients that presents T Socre of >-2.5 before the therapy and presents  worsen T Score status after the therapy are less persistent of a drug than patients that presents other types of T Score and T Score status."
   ]
  },
  {
   "cell_type": "markdown",
   "id": "eefa6b20",
   "metadata": {},
   "source": [
    "**11.** Patients that presents the amount of risk factor higher than 4 are more persistent of a drug than patients that presents the amount of risk factor higher than 4.\n",
    "\n",
    "**12.** Patients adherent for therapies and that did not use drugs berofe the therapy more persistent of a drug than patients that are not adherent for therapies and that used drugs berofe the therapy.\n",
    "\n",
    "**13.** Patients that used more than 6 concomitancy drugs before the therapy are less persistent of a drug than patients that  used more than 6 concomitancy drugsbefore the therapy.\n",
    "\n",
    "**14.** Patients that presents more than 8 diffetrent types of comorbidity are more persistent of a drug than patients that  presents less than 8 diffetrent types of comorbidity."
   ]
  },
  {
   "cell_type": "code",
   "execution_count": null,
   "id": "0de70fe0",
   "metadata": {},
   "outputs": [],
   "source": [
    "Ptid                                                                  object\n",
    "Persistency_Flag                                                      object\n",
    "Gender                                                                object\n",
    "Race                                                                  object\n",
    "Ethnicity                                                             object\n",
    "Region                                                                object\n",
    "Age_Bucket                                                            object\n",
    "Ntm_Speciality                                                        object\n",
    "Ntm_Specialist_Flag                                                   object\n",
    "Ntm_Speciality_Bucket                                                 object\n",
    "Gluco_Record_Prior_Ntm                                                object\n",
    "Gluco_Record_During_Rx                                                object\n",
    "Dexa_Freq_During_Rx                                                    int64\n",
    "Dexa_During_Rx                                                        object\n",
    "Frag_Frac_Prior_Ntm                                                   object\n",
    "Frag_Frac_During_Rx                                                   object\n",
    "Risk_Segment_Prior_Ntm                                                object\n",
    "Tscore_Bucket_Prior_Ntm                                               object\n",
    "Risk_Segment_During_Rx                                                object\n",
    "Tscore_Bucket_During_Rx                                               object\n",
    "Change_T_Score                                                        object\n",
    "Change_Risk_Segment                                                   object\n",
    "Adherent_Flag                                                         object\n",
    "Idn_Indicator                                                         object\n",
    "Injectable_Experience_During_Rx                                       object\n",
    "Comorb_Encounter_For_Screening_For_Malignant_Neoplasms                object\n",
    "Comorb_Encounter_For_Immunization                                     object\n",
    "Comorb_Encntr_For_General_Exam_W_O_Complaint,_Susp_Or_Reprtd_Dx       object\n",
    "Comorb_Vitamin_D_Deficiency                                           object\n",
    "Comorb_Other_Joint_Disorder_Not_Elsewhere_Classified                  object\n",
    "Comorb_Encntr_For_Oth_Sp_Exam_W_O_Complaint_Suspected_Or_Reprtd_Dx    object\n",
    "Comorb_Long_Term_Current_Drug_Therapy                                 object\n",
    "Comorb_Dorsalgia                                                      object\n",
    "Comorb_Personal_History_Of_Other_Diseases_And_Conditions              object\n",
    "Comorb_Other_Disorders_Of_Bone_Density_And_Structure                  object\n",
    "Comorb_Disorders_of_lipoprotein_metabolism_and_other_lipidemias       object\n",
    "Comorb_Osteoporosis_without_current_pathological_fracture             object\n",
    "Comorb_Personal_history_of_malignant_neoplasm                         object\n",
    "Comorb_Gastro_esophageal_reflux_disease                               object\n",
    "Concom_Cholesterol_And_Triglyceride_Regulating_Preparations           object\n",
    "Concom_Narcotics                                                      object\n",
    "Concom_Systemic_Corticosteroids_Plain                                 object\n",
    "Concom_Anti_Depressants_And_Mood_Stabilisers                          object\n",
    "Concom_Fluoroquinolones                                               object\n",
    "Concom_Cephalosporins                                                 object\n",
    "Concom_Macrolides_And_Similar_Types                                   object\n",
    "Concom_Broad_Spectrum_Penicillins                                     object\n",
    "Concom_Anaesthetics_General                                           object\n",
    "Concom_Viral_Vaccines                                                 object\n",
    "Risk_Type_1_Insulin_Dependent_Diabetes                                object\n",
    "Risk_Osteogenesis_Imperfecta                                          object\n",
    "Risk_Rheumatoid_Arthritis                                             object\n",
    "Risk_Untreated_Chronic_Hyperthyroidism                                object\n",
    "Risk_Untreated_Chronic_Hypogonadism                                   object\n",
    "Risk_Untreated_Early_Menopause                                        object\n",
    "Risk_Patient_Parent_Fractured_Their_Hip                               object\n",
    "Risk_Smoking_Tobacco                                                  object\n",
    "Risk_Chronic_Malnutrition_Or_Malabsorption                            object\n",
    "Risk_Chronic_Liver_Disease                                            object\n",
    "Risk_Family_History_Of_Osteoporosis                                   object\n",
    "Risk_Low_Calcium_Intake                                               object\n",
    "Risk_Vitamin_D_Insufficiency                                          object\n",
    "Risk_Poor_Health_Frailty                                              object\n",
    "Risk_Excessive_Thinness                                               object\n",
    "Risk_Hysterectomy_Oophorectomy                                        object\n",
    "Risk_Estrogen_Deficiency                                              object\n",
    "Risk_Immobilization                                                   object\n",
    "Risk_Recurring_Falls                                                  object\n",
    "Count_Of_Risks                                                         int64\n",
    "Count_Of_Concomitancy     int64\n",
    "Count_Of_Comorbidity      int64"
   ]
  }
 ],
 "metadata": {
  "kernelspec": {
   "display_name": "Python 3",
   "language": "python",
   "name": "python3"
  },
  "language_info": {
   "codemirror_mode": {
    "name": "ipython",
    "version": 3
   },
   "file_extension": ".py",
   "mimetype": "text/x-python",
   "name": "python",
   "nbconvert_exporter": "python",
   "pygments_lexer": "ipython3",
   "version": "3.8.10"
  }
 },
 "nbformat": 4,
 "nbformat_minor": 5
}
